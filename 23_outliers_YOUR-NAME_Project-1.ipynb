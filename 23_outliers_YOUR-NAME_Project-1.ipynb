{
 "cells": [
  {
   "cell_type": "markdown",
   "metadata": {},
   "source": [
    "# Project 1: Pose Graph Optimization (scratch + g2o)\n",
    "TEAM-ID:     \n",
    "TEAM-NAME:        \n",
    "YOUR-ID:      \n",
    "YOUR-NAME:     \n",
    "\n",
    "(Although you work in groups, both the students have to submit to Moodle, hence there's name field above)"
   ]
  },
  {
   "cell_type": "markdown",
   "metadata": {},
   "source": [
    "### Submission\n",
    "Zip a folder of the following:\n",
    "1. Files that you were provided with: `Project-1.ipynb`, the folders `misc` and `dataset`. Rest of the files asked in the questions below must be generated when i run the code. If generation of any file is computationally intensive, add `filename_backup.extension` where `filename.extension` is the expected name of file when i run the code. (For example, next point.)\n",
    "2. Add `opt_backup.g2o` (described below) in outermost directory. Here, `opt.g2o` is the expected name of the file when I run the code.\n",
    "3. For images of any results (like plots), save it in `./misc` folder.\n",
    "\n",
    "On Moodle, all you have to submit is the jupyter notebook. But make sure to call the necessary functions explicitly (as specified in the notebook). The name of the zipped file being submitted to Moodle Assignment portal MUST BE `ID_Teamname_Firstname`. More details [here](https://www.notion.so/saishubodh/Course-Information-4c9e487b118547b2ba91d24e0dcaf04e#f2707a04f2a0446bac77763b47ba4bac).\n",
    "\n",
    "On GitHub classrooms, the latest commit before the deadline will be considered as the submission. \n",
    "\n",
    "The deadline is Oct 16, 23:55 IST. Please get started ASAP, there is no way you can finish this project during the last few days before the deadline."
   ]
  },
  {
   "cell_type": "markdown",
   "metadata": {},
   "source": [
    "### General instructions\n",
    "\n",
    "This ipython notebook (`.ipynb`) on GitHub is self-sufficient and has all the information you need to get started with the assignment, you don't need any corresponding PDF doc. Just fire up the notebook and get going!\n",
    "\n",
    "General information like installation instructions in supplementary notebook \"Project-1_Code-Walkthrough\". Please take a look at it before you start this assignment.\n",
    "\n",
    "Whenever I mention some `func()` below, I am referring to the \"helper functions\" in another supplementary notebook \"Project-1_Code-Walkthrough\" provided to you. Whenever I ask you to insert image below, it is better to save the image in `misc` and load it using `![file_name](file_location)` instead of directly pasting.    \n",
    "\n",
    "[[CP-]] refers to CheckPoint, you have to ensure you do the tasks at each of the [[CP-]] places below. Not ensuring [[CP-B]] (CheckPoint-Basic) will incur heavy penalty and potentially 0 for that sub-section, and [[CP-M]] (CheckPoint-Marks) has a particular mark weightage depending on your results at that particular CP.\n",
    "\n",
    "If you face any issues related to coding/installation, please raise an [issue here](https://github.com/Shubodh/MR-project1-pgo/issues). For any conceptual doubts, you can ask on Moodle or Teams as usual."
   ]
  },
  {
   "cell_type": "markdown",
   "metadata": {},
   "source": [
    "# 0. Introduction\n",
    "\n",
    "In this project, we are going to use a non-linear weighted least squares optimization approach to solve the problem of getting a better estimate of our robot's trajectory. Least squares formulations are widely used for optimization, be it computer vision or robotics or machine learning. We will dive deep into it during this project and you will have complete clarity on optimization for vector-valued residual functions. \n",
    "\n",
    "In this \"Introduction\" section, I am going to provide an introduction for SLAM problem for a robot operating in the 2D world. It is 2. section in this Project. The 1D SLAM problem (1.) is far much simpler to understand and will be described directly in the 1. section. \n",
    "\n",
    "In a 2D world, a robot has 3 degrees of freedom, i.e. its pose in the world can be expressed by the state vector $\\mathbf{x}=(x, y, \\theta)^{\\mathrm{T}}$. For the scope of this project, we are interested only in the robot's trajectory through the $2 \\mathrm{D}$ world, and NOT in distinct landmarks or the surronding map of the environment, i.e. we are only interested in \"L\"ocalization part of SLAM. \n",
    "\n",
    "Therefore, we can represent it as a graph where the vertices represent robot poses $\\mathbf{x}_{i}$ and edges represent the spatial constraints between these poses. Such a map is generally called a pose graph.\n",
    "\n",
    "Two different kinds of constraints are necessary for pose graph SLAM. The first are\n",
    "odometric constraints that connect two successive states $\\mathbf{x}_{i}$ and $\\mathbf{x}_{i+1}$ via a motion model. Furthermore, in order to perform loop closing, the robot has to recognize places it already visited before. This place recognition is also a part of the front-end and provides the second type of constraint, the loop closure constraints. These constraints connect two not necessarily successive poses $\\mathbf{x}_{i}$ and $\\mathbf{x}_{j}$.\n",
    "\n",
    "\n",
    "![SLAM-trajectory-lc.png](misc/SLAM-trajectory-lc.png)   ![SLAM-trajectory-robust.png](misc/SLAM-trajectory-robust.png) (Source: [Sunderhauf 2012](https://core.ac.uk/download/pdf/89299995.pdf))\n",
    "\n",
    "You will start from the inaccurate pose graph with odometry and loop closure information and by the end of this Project, you end up with an optimized pose graph (see above images) which should look close to ground truth trajectory. You can watch [this video](https://youtu.be/saVZtgPyyJQ) to get an intuition for what we're about to do.\n",
    "\n",
    "Okay, that's enough of theory. Let's get out hands dirty with the code!"
   ]
  },
  {
   "cell_type": "code",
   "execution_count": 16,
   "metadata": {},
   "outputs": [],
   "source": [
    "import matplotlib.pyplot as plt\n",
    "import math\n",
    "import os\n",
    "import jax.numpy as jnp #see supplementary notebook to see how to use this\n",
    "import jax\n",
    "\n",
    "import numpy as np\n",
    "\n",
    "# If you're `importing numpy as np` for debugging purposes, \n",
    "# while submitting, please remove 'import numpy' and replace all np's with jnp's.(more in supplementary notebook)\n",
    "\n",
    "plt.style.use('seaborn')"
   ]
  },
  {
   "cell_type": "markdown",
   "metadata": {},
   "source": [
    "# 1. Pose Graph Optimization for 1D SLAM\n",
    "\n",
    "A solved example for 1D SLAM which optimizes for pose variables using weighted least squares method (Gauss Newton) has been explained in the class. It has been made [available here](https://www.notion.so/saishubodh/Solved-Example-1D-SLAM-weighted-LS-Illustrating-Sparsity-in-SLAM-d8b45893843b4377b07b1d4aa1aab4de). Your first task is to code this from scratch. [[CP-M]]\n",
    "\n",
    "For this section, you have to calculate Jacobian analytically yourself and use it. However, you can check how correct `jax`'s `jacobian`. Its usage is explained in the supplementary notebook."
   ]
  },
  {
   "cell_type": "code",
   "execution_count": 2,
   "metadata": {},
   "outputs": [
    {
     "name": "stdout",
     "output_type": "stream",
     "text": [
      "\n",
      "\n",
      "Iteration 0\n",
      "\n",
      "\n",
      "[ 6.9388939e-18 -1.0000000e-01 -2.0000000e-01 -3.0000000e-01\n",
      " -4.0000000e-01]\n",
      "[6.9388939e-18 1.0000000e+00 1.9000000e+00 2.9000000e+00 1.0000000e-01]\n",
      "\n",
      "\n",
      "Iteration 1\n",
      "\n",
      "\n",
      "[-7.10542736e-18  1.27897692e-16  3.19744231e-17 -2.77111667e-16\n",
      " -8.88178420e-17]\n",
      "[-1.66533454e-19  1.00000000e+00  1.90000000e+00  2.90000000e+00\n",
      "  1.00000000e-01]\n",
      "\n",
      "\n",
      "Iteration 2\n",
      "\n",
      "\n",
      "[-3.08148791e-33 -4.97379915e-17 -9.94759830e-17  8.17124146e-17\n",
      " -3.90798505e-17]\n",
      "[-1.66533454e-19  1.00000000e+00  1.90000000e+00  2.90000000e+00\n",
      "  1.00000000e-01]\n",
      "\n",
      "\n",
      "Iteration 3\n",
      "\n",
      "\n",
      "[-4.62223187e-33 -4.97379915e-17 -9.94759830e-17  8.17124146e-17\n",
      " -3.55271368e-18]\n",
      "[-1.66533454e-19  1.00000000e+00  1.90000000e+00  2.90000000e+00\n",
      "  1.00000000e-01]\n",
      "\n",
      "\n",
      "Iteration 4\n",
      "\n",
      "\n",
      "[-4.62223187e-33 -4.97379915e-17 -9.94759830e-17  8.17124146e-17\n",
      " -3.55271368e-18]\n",
      "[-1.66533454e-19  1.00000000e+00  1.90000000e+00  2.90000000e+00\n",
      "  1.00000000e-01]\n"
     ]
    }
   ],
   "source": [
    "##############################################################################\n",
    "# TODO: Code for Section 1                                                   #\n",
    "\n",
    "odometer = np.array([1.1, 1, 1.1, -2.7, 0])\n",
    "pos = np.array([0, 1.1, 2.1, 3.2, 0.5])\n",
    "\n",
    "weights = np.array([[100, 0, 0, 0, 0, 0],\n",
    "                   [0, 100, 0, 0, 0, 0],\n",
    "                   [0, 0, 100, 0, 0, 0],\n",
    "                   [0, 0, 0, 100, 0, 0],\n",
    "                   [0, 0, 0, 0, 100, 0],\n",
    "                   [0, 0, 0, 0, 0, 1000],\n",
    "                  ])\n",
    "\n",
    "iterations = 5\n",
    "for i in range(iterations):\n",
    "    fx = np.array([ pos[0] + odometer[0], pos[1] + odometer[1], pos[2] + odometer[2], pos[3] + odometer[3], pos[0] + odometer[4], pos[0]])\n",
    "    \n",
    "    J = np.array([[1, -1, 0, 0, 0],\n",
    "                   [0, 1, -1, 0, 0],\n",
    "                   [0, 0, 1, -1, 0],\n",
    "                   [0, 0, 0, 1, -1],\n",
    "                   [1, 0, 0, 0, -1],\n",
    "                   [1, 0, 0, 0, 0],\n",
    "                  ])\n",
    "    \n",
    "    # H @ delta_x = -b\n",
    "    H = J.T @ weights @ J\n",
    "    fx_i = np.array([ fx[0] - pos[1], fx[1] - pos[2], fx[2] - pos[3], fx[3] - pos[4], fx[4] - pos[4], fx[5] - 0])\n",
    "    \n",
    "    b = J.T @ weights.T @ fx_i\n",
    "\n",
    "    delta_x = -b @ np.linalg.inv(H)\n",
    "    print('\\n')\n",
    "    print(\"Iteration\", i)\n",
    "    print('\\n')\n",
    "    print(delta_x)\n",
    "    pos = pos + delta_x\n",
    "    print(pos)\n",
    "\n",
    "##############################################################################\n",
    "#                             END OF YOUR CODE                               #\n",
    "##############################################################################"
   ]
  },
  {
   "cell_type": "markdown",
   "metadata": {},
   "source": [
    "# 2. Pose Graph Optimization for 2D SLAM\n",
    "\n",
    "Things are about to get interesting!\n",
    "\n",
    "## 2.1 Coding from scratch\n",
    "\n",
    "### Objective\n",
    "A robot is travelling in a oval trajectory. It is equipped with wheel odometry for odometry information and RGBD sensors for loop closure information. Due to noise in wheel odometry it generates a noisy estimate of the trajectory. Our task is to use loop closure pairs to correct the drift.\n",
    "\n",
    "We pose this problem as a graph optimization problem. In our graph, poses are the vertices and constraints are the edges. \n",
    "\n",
    "### Given: \n",
    "In practical scenarios, we'd obtain the following from our sensors after some post-processing:\n",
    "1. Initial position\n",
    "2. Odometry Contraints/Edges: This \"edge\" information basically tells us relative transformation between two nodes. These two nodes are consecutive in the case of Odometry but not in the case of Loop Closure (next point).\n",
    "3. Loop Closure Contraints/Edges\n",
    "Remember that while optimizing, you have another kind of \"anchor\" edge as you've seen in 1. solved example.\n",
    "\n",
    "You have been given a text file named `edges.txt` which has all the above 3 and it follows G2O's format (as explained in class, [link here](https://www.notion.so/saishubodh/G2O-Edge-Description-fa07cc28967541dc8a71170de46c5da7) )."
   ]
  },
  {
   "cell_type": "markdown",
   "metadata": {},
   "source": [
    "### Details:\n",
    "1. Using the following motion model, you have to first generate the \"initialization\" for all the poses/vertices using the \"Given\" information. Just like in the 1D case.\n",
    "$$x_{k+1} = x_{k} + \\Delta x_{(k,k+1)} \\cos(\\theta_k) - \\Delta y_{(k,k+1)} \\sin(\\theta_k) \\\\\n",
    "y_{k+1} = y_{k} + \\Delta y_{(k,k+1)} \\cos(\\theta_k) + \\Delta x_{(k,k+1)} \\sin(\\theta_k) \\\\\n",
    "\\theta_{k+1} = \\theta_{k}+  \\Delta \\theta_{(k,k+1)} \\tag{3}$$\n",
    "\n",
    "Even the loop closure nodes are related by the above model, except that it need not necessarily be consecutive notes k and k+1.\n",
    "\n",
    "Save this initial trajectory as `edges-poses.g2o`.\n",
    "\n",
    "If you plot the initialized poses using odometry information, you need to get as the right plot [[CP-M]] below (this is the \"noisy trajectory\"): (Left one is the ground truth)\n",
    "![robot-poses-MR-P1.png](./misc/robot-poses-MR-P1.png)\n",
    "(Use `draw()` helper function or `g2o_viewer` or `EVO`)\n",
    "\n",
    "2. Now calculate the residual and the Jacobian and update your parameters using LM.\n",
    "\n",
    "Use LM algorithm. Regarding Jacobian calculation, you can use `jax`'s `jacobian` as part of your main code. However, you still have to separately calculate it analytically and verify if it matches with `jax`'s `jacobian` using [[CP-M]] frobenius norm `frobNorm()`). Calculation and verification is compulsory, but it is your choice to use whichever as part of your optimization. Use whichever is faster.\n",
    "\n",
    "3. Regarding LM iterations, stopping criterion, information matrix values.\n",
    "\n",
    "    1. [[CP-B]] As your iterations proceed, you have to print relevant information (iteration number and error value: [$F = \\frac{1}{2}  \\mathbf{f}^{\\top} \\mathbf{\\Omega} \\mathbf{f} $ (notion page link)](https://www.notion.so/saishubodh/From-linear-algebra-to-non-linear-weighted-least-squares-optimization-13cf17d318be4d45bb8577c4d3ea4a02#32832dee7d6c4ab49581463d9b784f21) at every step).\n",
    "    \n",
    "    2. [[CP-B]] You have to show the plots (ground truth, noisy & optimized: all 3 in a single plot) at every 10 steps or so.\n",
    "\n",
    "    3. [[CP-M]] You could start with information values of 500 for odom edges, 700 for loop closure edges, 1000 for anchor edge (same for all dimensions). However, you have to _heavily_ experiment with these values. (Given that you somehow know loop closure information is way more reliable than odometry.). At the end of your experimentation, your error $F = \\frac{1}{2}  \\mathbf{f}^{\\top} \\mathbf{\\Omega} \\mathbf{f} $ should by < 40. Explain your experimentation in detail using tables/plots etc if necessary.\n",
    "    \n",
    "Do not worry if you're not getting a perfect trajectory. Our parametrization was oversimplified for the sake of this project. With that being said, it is possible to get the error down to < 40 and make it at least look like an oval shaped trajectory, even if it doesn't perfectly resemble the ground truth. However, using `g2o` (next section), you will be getting a close to ground truth trajectory."
   ]
  },
  {
   "cell_type": "code",
   "execution_count": 40,
   "metadata": {},
   "outputs": [],
   "source": [
    "##############################################################################\n",
    "# TODO: Code for Section 2.1                                                 #\n",
    "##############################################################################\n",
    "\n",
    "# CONSTANTS\n",
    "NUM_VARS = 3\n",
    "WEIGHT_ODOMETRY = 500\n",
    "WEIGHT_LOOP_CLOSURE = 700\n",
    "WEIGHT_ANCHOR = 1000\n",
    "\n",
    "LM_LAMBDA = 1\n",
    "NUM_ITERS = 100\n",
    "TOL = 1e-6"
   ]
  },
  {
   "cell_type": "code",
   "execution_count": 41,
   "metadata": {},
   "outputs": [],
   "source": [
    "# UTILITY FUNCTIONS\n",
    "\n",
    "def read_vertex(fileName):\n",
    "    f = open(fileName, 'r')\n",
    "    A = f.readlines()\n",
    "    f.close()\n",
    "\n",
    "    x_arr = []\n",
    "    y_arr = []\n",
    "    theta_arr = []\n",
    "\n",
    "    for line in A:\n",
    "        if \"VERTEX_SE2\" in line:\n",
    "            (ver, ind, x, y, theta) = line.split()\n",
    "            x_arr.append(float(x))\n",
    "            y_arr.append(float(y))\n",
    "            theta_arr.append(float(theta.rstrip('\\n')))\n",
    "\n",
    "    return jnp.array([x_arr, y_arr, theta_arr])\n",
    "\n",
    "def read_edge(fileName):\n",
    "    f = open(fileName, 'r')\n",
    "    A = f.readlines()\n",
    "    f.close()\n",
    "\n",
    "    ind1_arr = []\n",
    "    ind2_arr = []\n",
    "    del_x = []\n",
    "    del_y = []\n",
    "    del_theta = []\n",
    "\n",
    "    for line in A:\n",
    "        if \"EDGE_SE2\" in line:\n",
    "            (edge, ind1, ind2, dx, dy, dtheta, _, _, _, _, _, _) = line.split()\n",
    "            ind1_arr.append(int(ind1))\n",
    "            ind2_arr.append(int(ind2))\n",
    "            del_x.append(float(dx))\n",
    "            del_y.append(float(dy))\n",
    "            del_theta.append(float(dtheta))\n",
    "\n",
    "    return (jnp.array( ind1_arr), jnp.array(ind2_arr), jnp.array(del_x), jnp.array(del_y), jnp.array(del_theta))\n",
    "\n",
    "# plot trajectory using matplotlib\n",
    "def draw(X, Y, THETA):\n",
    "    ax = plt.subplot(111)\n",
    "    ax.plot(X, Y, 'ro')\n",
    "    plt.plot(X, Y, 'c-')\n",
    "\n",
    "    for i in range(len(THETA)):\n",
    "        x2 = 0.25*math.cos(THETA[i]) + X[i]\n",
    "        y2 = 0.25*math.sin(THETA[i]) + Y[i]\n",
    "        plt.plot([X[i], x2], [Y[i], y2], 'g->')\n",
    "\n",
    "    plt.show()\n",
    "    \n",
    "# motion model\n",
    "def next_pose(x, y, theta, del_x, del_y, del_theta):\n",
    "    x_new = x + del_x * jnp.cos(theta) - del_y * jnp.sin(theta)\n",
    "    y_new = y + del_y * jnp.cos(theta) + del_x * jnp.sin(theta)\n",
    "    theta_new = theta + del_theta\n",
    "    return jnp.array([x_new, y_new, theta_new])"
   ]
  },
  {
   "cell_type": "code",
   "execution_count": 54,
   "metadata": {},
   "outputs": [
    {
     "name": "stdout",
     "output_type": "stream",
     "text": [
      "Poses (Vertices): (120, 3)\n"
     ]
    },
    {
     "data": {
      "image/png": "[encoded data removed]",
      "text/plain": [
       "<Figure size 576x396 with 1 Axes>"
      ]
     },
     "metadata": {},
     "output_type": "display_data"
    }
   ],
   "source": [
    "# READ INPUT FILE AND GENERATE POSES\n",
    "\n",
    "vertex = read_vertex('dataset/edges.txt')\n",
    "edges = read_edge('dataset/edges.txt')\n",
    "x = vertex[0][0]\n",
    "y = vertex[1][0]\n",
    "theta = vertex[2][0]\n",
    "\n",
    "poses = []\n",
    "poses.append(jnp.array([x, y, theta]))\n",
    "\n",
    "for i in range(edges[0].shape[0]):\n",
    "    ind1 = edges[0][i]\n",
    "    ind2 = edges[1][i]\n",
    "    \n",
    "    if(abs(ind2 - ind1) > 1):\n",
    "        break # do not include loop closure constrains\n",
    "    \n",
    "    del_x = edges[2][i]\n",
    "    del_y = edges[3][i]\n",
    "    \n",
    "    del_theta = edges[4][i]\n",
    "    \n",
    "    x, y, theta = next_pose(x, y, theta, del_x, del_y, del_theta) # use odometry to get the next pose\n",
    "    poses.append(jnp.array([x, y, theta]))\n",
    "    \n",
    "poses = jnp.array(poses)\n",
    "print('Poses (Vertices):', poses.shape)\n",
    "draw(poses[:,0], poses[:,1], poses[:,2])\n",
    "\n",
    "##############################################################################\n",
    "#                             END OF YOUR CODE                               #\n",
    "##############################################################################"
   ]
  },
  {
   "cell_type": "code",
   "execution_count": 26,
   "metadata": {},
   "outputs": [],
   "source": [
    "# WRITE ALL VERTICES AND EDGES IN g2o FORMAT\n",
    "# The original file included only a single vertex, others were generated only by using the odometry contraints\n",
    "\n",
    "with open('edges-poses.g2o', 'w') as f:\n",
    "    for i in range(poses.shape[0]):\n",
    "        st = \"VERTEX_SE2 \" + str(i) + \" \" + str(poses[i][0]) + \" \" + str(poses[i][1]) + \" \" + str(poses[i][2])\n",
    "        f.write(\"%s\\n\" % st)\n",
    "        \n",
    "    for i in range(edges[0].shape[0]):\n",
    "        ind1 = edges[0][i]\n",
    "        ind2 = edges[1][i]\n",
    "        del_x = edges[2][i]\n",
    "        del_y = edges[3][i]\n",
    "        del_theta = edges[4][i]\n",
    "        st = \"EDGE_SE2 \" + str(ind1) + \" \" + str(ind2) + \" \" + str(del_x) + \" \" + str(del_y) + \" \" + str(del_theta)\n",
    "        f.write(\"%s\\n\" % st)"
   ]
  },
  {
   "cell_type": "markdown",
   "metadata": {},
   "source": [
    "![edges-poses.png](./misc/edges-poses.png) "
   ]
  },
  {
   "cell_type": "code",
   "execution_count": 46,
   "metadata": {},
   "outputs": [],
   "source": [
    "# KEY FUNCTIONS\n",
    "\n",
    "# Order of edges:\n",
    "## x_anchor\n",
    "## y_anchor\n",
    "## theta_anchor\n",
    "## for every edge:\n",
    "### x_i\n",
    "### y_i\n",
    "### theta_i\n",
    "\n",
    "# Order of pose variables\n",
    "## for every edge:\n",
    "### x_i\n",
    "### y_i\n",
    "### theta_i\n",
    "\n",
    "def derivative_with_initial(x_i, y_i, theta_i, x_f, y_f, theta_f, del_x, del_y, del_theta):\n",
    "    result = jnp.eye(NUM_VARS)\n",
    "    \n",
    "    result = jax.ops.index_update(result, jax.ops.index[0, 2], - del_x * jnp.sin(theta_i) - del_y * jnp.cos(theta_i))    \n",
    "    result = jax.ops.index_update(result, jax.ops.index[1, 2], - del_y * jnp.sin(theta_i) + del_x * jnp.cos(theta_i))\n",
    "    return result\n",
    "    \n",
    "def derivative_with_final(x_i, y_i, theta_i, x_f, y_f, theta_f, del_x, del_y, del_theta):\n",
    "    result = -1 * jnp.eye(NUM_VARS)\n",
    "    return result\n",
    "\n",
    "def information_matrix(edges, weight_odom, weight_loop, weight_anchor):\n",
    "    # edge x edge matrix\n",
    "    diagonal = []\n",
    "    \n",
    "    # anchor edge\n",
    "    diagonal.extend([weight_anchor] * NUM_VARS)\n",
    "    \n",
    "    for i in range(edges[0].shape[0]):\n",
    "        ind1 = edges[0][i]\n",
    "        ind2 = edges[1][i]\n",
    "        if abs(ind2 - ind1) == 1:\n",
    "            # odom edges\n",
    "            diagonal.extend([weight_odom] * NUM_VARS)\n",
    "        else:\n",
    "            # loop closure edges\n",
    "            diagonal.extend([weight_loop] * NUM_VARS)\n",
    "    \n",
    "    return jnp.diag(jnp.array(diagonal))\n",
    "\n",
    "def residual(current_poses, edges):\n",
    "    residue = []\n",
    "    \n",
    "    # anchor edges\n",
    "    residue.extend(list(current_poses[0] - 0))\n",
    "    \n",
    "    # other edges\n",
    "    for i in range(edges[0].shape[0]):\n",
    "        ind1 = edges[0][i]\n",
    "        ind2 = edges[1][i]\n",
    "        \n",
    "        del_x = edges[2][i]\n",
    "        del_y = edges[3][i]\n",
    "        del_theta = edges[4][i]\n",
    "        \n",
    "        estimated_pose_2 = next_pose(*current_poses[ind1], del_x, del_y, del_theta)\n",
    "        diff = list(estimated_pose_2 - current_poses[ind2])\n",
    "        residue.extend(diff)\n",
    "    \n",
    "    return jnp.asarray(residue)\n",
    "\n",
    "# res = residual(poses, edges)\n",
    "# print(res.shape)\n",
    "# weights = information_matrix(edges, WEIGHT_ODOMETRY, WEIGHT_LOOP_CLOSURE, WEIGHT_ANCHOR)\n",
    "# print(weights[2])\n",
    "\n",
    "def jacobian(current_poses, edges):\n",
    "    num_constraints = (edges[0].shape[0] * NUM_VARS) + NUM_VARS # for anchor edges\n",
    "    num_variables = current_poses.shape[0] * NUM_VARS\n",
    "    \n",
    "    # constraints are ordered as in `edges`\n",
    "    # variables are ordered as in `current_poses`\n",
    "    \n",
    "    J = jnp.zeros((num_constraints, num_variables))\n",
    "    \n",
    "    # for anchor edges\n",
    "    J = jax.ops.index_update(J, jax.ops.index[:NUM_VARS, :NUM_VARS], np.eye(NUM_VARS))\n",
    "    \n",
    "    # for other edges\n",
    "    for i in range(edges[0].shape[0]):\n",
    "        ind1 = edges[0][i]\n",
    "        ind2 = edges[1][i]\n",
    "        del_x = edges[2][i]\n",
    "        del_y = edges[3][i]\n",
    "        del_theta = edges[4][i]\n",
    "        \n",
    "        J = jax.ops.index_update(\n",
    "                J,\n",
    "                jax.ops.index[NUM_VARS + i * NUM_VARS:NUM_VARS + i * NUM_VARS + NUM_VARS, ind1 * NUM_VARS: ind1 * NUM_VARS + NUM_VARS],\n",
    "                derivative_with_initial(*poses[ind1], *poses[ind2], del_x, del_y, del_theta)\n",
    "            )\n",
    "        \n",
    "        J = jax.ops.index_update(\n",
    "                J,\n",
    "                jax.ops.index[NUM_VARS + i * NUM_VARS:NUM_VARS + i * NUM_VARS + NUM_VARS, ind2 * NUM_VARS: ind2 * NUM_VARS + NUM_VARS],\n",
    "                derivative_with_final(*poses[ind1], *poses[ind2], del_x, del_y, del_theta)\n",
    "            )\n",
    "    \n",
    "    return J\n",
    "\n",
    "def get_error(poses, edges, weights):\n",
    "    f = residual(poses, edges)\n",
    "    J = jacobian(poses, edges)\n",
    "    \n",
    "    return 0.5 * f.T @ weights @ f\n",
    "\n",
    "def step_lm(poses, edges, weights, lamda):\n",
    "    f = residual(poses, edges)\n",
    "    J = jacobian(poses, edges)\n",
    "    \n",
    "    step = - jnp.linalg.inv(J.T @ weights @ J + lamda * jnp.eye(J.shape[1])) @ J.T @ weights.T @ f\n",
    "    return step.reshape((-1, NUM_VARS))\n",
    "\n",
    "def optimise_lm(poses, edges, num_iters=NUM_ITERS, lamda=LM_LAMBDA, tol=TOL):\n",
    "    weights = information_matrix(edges, WEIGHT_ODOMETRY, WEIGHT_LOOP_CLOSURE, WEIGHT_ANCHOR)\n",
    "    \n",
    "    poses_history = []\n",
    "    errors_history = [get_error(poses, edges, weights), ]\n",
    "    \n",
    "    for _ in range(num_iters):\n",
    "        new_poses = poses + step_lm(poses, edges, weights, lamda)\n",
    "        new_error = get_error(new_poses, edges, weights)\n",
    "        \n",
    "        if len(errors_history) > 0:\n",
    "            if (new_error > errors_history[-1]):\n",
    "                lamda = lamda * 2\n",
    "            else:\n",
    "                lamda = lamda / 3\n",
    "                \n",
    "        errors_history.append(new_error)\n",
    "        poses_history.append(new_poses)\n",
    "        \n",
    "        if np.linalg.norm(new_poses - poses) < tol:\n",
    "            break\n",
    "        poses = new_poses\n",
    "        \n",
    "    return poses_history, errors_history\n",
    "    \n",
    "\n",
    "poses_history, errors_history = optimise_lm(poses, edges, num_iters=5)"
   ]
  },
  {
   "cell_type": "code",
   "execution_count": 50,
   "metadata": {},
   "outputs": [
    {
     "data": {
      "image/png": "[encoded data removed]",
      "text/plain": [
       "<Figure size 576x396 with 1 Axes>"
      ]
     },
     "metadata": {},
     "output_type": "display_data"
    },
    {
     "name": "stdout",
     "output_type": "stream",
     "text": [
      "4041.5298\n"
     ]
    },
    {
     "data": {
      "image/png": "[encoded data removed]",
      "text/plain": [
       "<Figure size 576x396 with 1 Axes>"
      ]
     },
     "metadata": {},
     "output_type": "display_data"
    }
   ],
   "source": [
    "%%time\n",
    "plt.plot(errors_history)\n",
    "plt.show()\n",
    "print(errors_history[-1])\n",
    "draw(poses_history[-1][:, 0], poses_history[-1][:, 1], poses_history[-1][:, 2])"
   ]
  },
  {
   "cell_type": "code",
   "execution_count": 64,
   "metadata": {},
   "outputs": [],
   "source": [
    "get_jacobian = jax.jacfwd(residual, argnums=0)\n",
    "J_theirs = get_jacobian(poses, edges)\n",
    "J_theirs = J_theirs.reshape((420, -1, 1))[:, :, 0]\n",
    "\n",
    "J_ours = jacobian(poses, edges)"
   ]
  },
  {
   "cell_type": "code",
   "execution_count": 65,
   "metadata": {},
   "outputs": [
    {
     "name": "stdout",
     "output_type": "stream",
     "text": [
      "(420, 360)\n",
      "(420, 360)\n",
      "Frobenius norm between mat1 and mat2 is: 0.0\n",
      "None\n"
     ]
    },
    {
     "data": {
      "image/png": "[encoded data removed]",
      "text/plain": [
       "<Figure size 576x396 with 2 Axes>"
      ]
     },
     "metadata": {},
     "output_type": "display_data"
    }
   ],
   "source": [
    "def frobNorm(P1, P2, str1=\"mat1\", str2=\"mat2\"):\n",
    "    jnp.set_printoptions(suppress=True)\n",
    "    val = jnp.linalg.norm(P1 - P2, 'fro')\n",
    "    print(f\"Frobenius norm between {str1} and {str2} is: {val}\")\n",
    "\n",
    "print(J_theirs.shape)\n",
    "print(J_ours.shape)\n",
    "print(frobNorm(J_ours, J_theirs))\n",
    "\n",
    "fig, ax = plt.subplots(1, 2)\n",
    "ax[0].imshow(J_theirs)\n",
    "ax[1].imshow(J_ours)\n",
    "plt.show()"
   ]
  },
  {
   "cell_type": "code",
   "execution_count": 17,
   "metadata": {
    "scrolled": true
   },
   "outputs": [],
   "source": [
    "def func(pos):\n",
    "    fx = []\n",
    "    for i in range(edges[0].shape[0]):\n",
    "        ind1 = edges[0][i]\n",
    "        ind2 = edges[1][i]\n",
    "        del_x = edges[2][i]\n",
    "        del_y = edges[3][i]\n",
    "        del_theta = edges[4][i]\n",
    "        \n",
    "        arr = next_pose(pos[ind1][0], pos[ind1][1], pos[ind1][2], del_x, del_y, del_theta) - jnp.array([pos[ind2][0], pos[ind2][1], pos[ind2][2]])\n",
    "        fx.append(arr)\n",
    "    \n",
    "    anchor = pos[0]\n",
    "    fx.append(anchor)\n",
    "    fx = jnp.asarray(fx)\n",
    "    return fx\n",
    "\n",
    "jacobian = jax.jacfwd(func)"
   ]
  },
  {
   "cell_type": "code",
   "execution_count": 10,
   "metadata": {},
   "outputs": [
    {
     "data": {
      "text/plain": [
       "(6, 5)"
      ]
     },
     "execution_count": 10,
     "metadata": {},
     "output_type": "execute_result"
    }
   ],
   "source": [
    "J.shape"
   ]
  },
  {
   "cell_type": "code",
   "execution_count": null,
   "metadata": {},
   "outputs": [],
   "source": [
    "iterations = 5\n",
    "for i in range(iterations):\n",
    "    \n",
    "    # H @ delta_x = -b\n",
    "    J = jacobian(poses)\n",
    "    H = J.T @ weights @ J\n",
    "    \n",
    "    fx_i = func(poses)\n",
    "    b = J.T @ weights.T @ fx_i\n",
    "\n",
    "    delta_x = -b @ np.linalg.inv(H)\n",
    "    \n",
    "    print('\\n')\n",
    "    print(\"Iteration\", i)\n",
    "    print('\\n')\n",
    "    print(delta_x)\n",
    "    pos = pos + delta_x\n",
    "    print(pos)\n"
   ]
  },
  {
   "cell_type": "markdown",
   "metadata": {},
   "source": [
    "## 2.1 Answer\n",
    "\n",
    "Give a detailed answer addressing the above questions. When I run the above code, it should follow points described above (such as plots at every 10 steps) and (When I run the above code, it should) write the optimized poses to a file named `opt.g2o`. As a backup, save another file `opt_backup.g2o` in an offline manner beforehand.\n",
    "\n",
    "That apart, save important plots and add them here so that it can supplement your answer, for example you could add plots at crucial stages of optimization. You have to add useful metrics/plots from `EVO` (refer to supplementary notebook). Using EVO, the bare minimum you have to report is `mean absolute pose error (ape)` and `mean relative pose error (rpe)`. However, you are encouraged to use tools like `evo_traj` and [more](https://github.com/MichaelGrupp/evo/#command-line-interface) and add more plots/metrics. Marks will be awarded based on overall analysis & presentation which would reflect your understanding.\n",
    "\n",
    "Note that `EVO` and `g2o_viewer` (below) could help you in debugging."
   ]
  },
  {
   "cell_type": "markdown",
   "metadata": {},
   "source": [
    "Add answer for 2.1 here:"
   ]
  },
  {
   "cell_type": "markdown",
   "metadata": {},
   "source": [
    "## 2.2 Using g2o's optimization: g2o binary or g2o viewer \n",
    "\n",
    "Installation setup is described in supplementary notebook. More details for 2.2.1 and 2.2.2 can be found in the supplementary notebook.\n",
    "\n",
    "### 2.2.1 Optimizing `edges.txt`\n",
    "First task is to optimize the poses of dataset you've been working with so far.\n",
    "\n",
    "### 2.2.2 Optimizing `intel` and `sphere` datasets\n",
    "You have been given two datasets in the `data` folder. You have to use `g2o_viewer` to optimize these both. You have to experiment with the options/parameters available in the GUI. More instructions in supplementary notebook. You have to experiment till you get the trajectories which look like the following:\n",
    "\n",
    "<table><tr>\n",
    "<td> <img src=\"./misc/intel.jpg\" alt=\"Drawing\" style=\"width: 250px;\"/> </td>\n",
    "<td> <img src=\"./misc/sphere.jpg\" alt=\"Drawing\" style=\"width: 250px;\"/> </td>\n",
    "</tr></table>"
   ]
  },
  {
   "cell_type": "markdown",
   "metadata": {},
   "source": [
    "## 2.2 Answer\n",
    "\n",
    "Add images: take screenshot of the GUI of `g2o_viewer` after optimization for all 3 [[CP-M]] and add here. Briefly describe what you had to do (detailed answer is not expected). g2o could potentially give you close to ground truth trajectory for all 3, but if you are unable to get to close to ground truth, add the best you can get."
   ]
  },
  {
   "cell_type": "markdown",
   "metadata": {},
   "source": [
    "###  * Important Information regarding Questions 3  & 4\n",
    "Note that it is mandatory to attempt EITHER 3 OR 4, only one of it. If you attempt both, the question which you score more will be considered and the other as bonus question. \n",
    "\n",
    "It is encouraged for those into robotics/deep learning research to prefer 4 over 3."
   ]
  },
  {
   "cell_type": "markdown",
   "metadata": {},
   "source": [
    "# [Bonus*] 3. Deriving Motion model geometrically\n",
    "\\* -> read information above under section \"Important Information regarding Questions 3  & 4\"\n",
    "\n",
    " \n",
    "The current robot state is as follows: ($i$ and $k$ are interchangably used below, sorry I am too lazy to edit now 😛)  \n",
    "![robot-situation.png](./misc/robot-situation.png)\n",
    "\n",
    "Can you derive the below equation using geometry? (Read on)\n",
    "\n",
    "$$x_{k+1} = x_{k} + \\Delta x_{(k,k+1)} \\cos(\\theta_k) - \\Delta y_{(k,k+1)} \\sin(\\theta_k) \\\\\n",
    "y_{k+1} = y_{k} + \\Delta y_{(k,k+1)} \\cos(\\theta_k) + \\Delta x_{(k,k+1)} \\sin(\\theta_k) \\\\\n",
    "\\theta_{k+1} = \\theta_{k}+  \\Delta \\theta_{(k,k+1)} \\tag{3}$$\n",
    "\n",
    "In other words, we want to find $\\delta$'s in terms of $\\Delta$'s\n",
    "$$\\delta x = \\Delta x \\cos(\\theta) - \\Delta y \\sin(\\theta) \\\\\n",
    "\\delta y = \\Delta y \\cos(\\theta) + \\Delta x \\sin(\\theta) \\tag{2}$$\n",
    "\n",
    "where $\\delta$'s are the updates in our motion model equation:\n",
    "$$ x_{k+1} = x_{k} + \\delta x \\\\\n",
    "y_{k + 1} = y_k + \\delta y \\\\\n",
    "\\theta_{k+1} = \\theta_{k} + \\delta \\theta \\tag{1}$$\n",
    "\n",
    "Oh yes, $\\theta$ is straightforward, i.e. $\\delta \\theta = \\Delta \\theta$ but why? \n",
    "\n",
    "Using geometry, you could just draw and insert a self-explanatory image as the answer to this question.\n",
    "\n",
    "If you can derive it without using geometry purely using transform matrices/algebra, that is fine too. Whatever you're comfortable."
   ]
  },
  {
   "cell_type": "markdown",
   "metadata": {},
   "source": [
    "## 3. Answer\n",
    "\n",
    "\n",
    "Your answer here."
   ]
  },
  {
   "cell_type": "markdown",
   "metadata": {},
   "source": [
    "# [Bonus*] 4. Research Paper Reading\n",
    "\\* -> read information above under section \"Important Information regarding Questions 3  & 4\"\n",
    "\n",
    "(Do not get intimidated, you are not expected to do a thorough research analysis for this task. A high level understanding is sufficient.)\n",
    "\n",
    "\n",
    "[\"Past, Present & Future of SLAM: Towards the Robust Perception Age\"](https://arxiv.org/abs/1606.05830) is an exciting survey paper of 2016 which sums up, well, the \"past, present & future\" of SLAM. Your task is as follows:\n",
    "\n",
    "1. Go through the sections \"IV. LONG-TERM AUTONOMY II: SCALABILITY\" & \"III. LONG-TERM AUTONOMY I: ROBUSTNESS\". Don't worry, you are not expected to have a deep understanding. Skip the parts which you don't understand at all. Go through it at a high level, and take a slightly closer look at \"Open Problems\" in these sections.\n",
    "\n",
    "2. Read up common applications of deep learning for computer vision/robotics through blogs online (for example, first 4 points of [this](https://machinelearningmastery.com/applications-of-deep-learning-for-computer-vision/). Again, you are only expected to understand it at a high level, for example, 'semantic segmentation is an application of deep learning for computer vision which is the task of assigning a category to each of the pixels in the image'.\n",
    "\n",
    "Firstly, summarize your understanding of the above two points.\n",
    "   \n",
    "Now, from the understanding you've gathered so far, how would you approach solving those \"Open Problems\"? \n",
    "Can these algorithms help in dealing with some of the issues you might have faced during this project? Can the deep learing based high level understanding of the world help in SLAM? In the context of long term autonomy, imagine tomorrow's world with a buddy robot R2-D2 which follows you wherever you go... Now imagine how easily the trajectory can diverge, how big the map could soon become and how the computation could easily become intractable.   \n",
    "\n",
    "Answer the above questions in the context of this project and those 2 sections of the survey paper."
   ]
  },
  {
   "cell_type": "markdown",
   "metadata": {},
   "source": [
    "## 4. Answer\n",
    "\n",
    "\n",
    "Your answer here."
   ]
  },
  {
   "cell_type": "markdown",
   "metadata": {},
   "source": [
    "### Fun section\n",
    "Check the end of your Project-1 homepage on Notion. :)"
   ]
  }
 ],
 "metadata": {
  "kernelspec": {
   "display_name": "Python 3",
   "language": "python",
   "name": "python3"
  },
  "language_info": {
   "codemirror_mode": {
    "name": "ipython",
    "version": 3
   },
   "file_extension": ".py",
   "mimetype": "text/x-python",
   "name": "python",
   "nbconvert_exporter": "python",
   "pygments_lexer": "ipython3",
   "version": "3.6.9"
  }
 },
 "nbformat": 4,
 "nbformat_minor": 4
}
